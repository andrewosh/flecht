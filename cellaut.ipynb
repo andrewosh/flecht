{
 "metadata": {
  "name": "",
  "signature": "sha256:4c60354c5a548fd0a97efa2751f7669e59a8b006e18793f6aaaeacc03a5e181f"
 },
 "nbformat": 3,
 "nbformat_minor": 0,
 "worksheets": [
  {
   "cells": [
    {
     "cell_type": "code",
     "collapsed": false,
     "input": [
      "import numpy as np\n",
      "import skimage as skf\n",
      "import matplotlib.pyplot as plt\n",
      "import matplotlib.animation as animation\n",
      "from scipy.ndimage.filters import convolve"
     ],
     "language": "python",
     "metadata": {},
     "outputs": [],
     "prompt_number": 2
    },
    {
     "cell_type": "code",
     "collapsed": false,
     "input": [],
     "language": "python",
     "metadata": {},
     "outputs": [],
     "prompt_number": 2
    },
    {
     "cell_type": "code",
     "collapsed": false,
     "input": [
      "fielddims = np.array([150,150])\n",
      "field = np.zeros(fielddims)\n",
      "\n",
      "nStates = 3\n",
      "\n",
      "nbs = [np.random.randint(0,2,[3,3]) for x in range(nStates)]\n",
      "#nbs = [np.ones([3,3]) for x in range(nStates)]\n",
      "gos = [[1,3],[1,2,3,4],[1,2,3]]\n",
      "cmap = 'gray'\n",
      "\n",
      "seed = np.array([1])\n",
      "seedPos = [(75,75),(75,76),(76,75),(76,76),(77,77)]"
     ],
     "language": "python",
     "metadata": {},
     "outputs": [],
     "prompt_number": 28
    },
    {
     "cell_type": "code",
     "collapsed": false,
     "input": [
      "for pos in seedPos:\n",
      "    field[pos] = seed\n",
      "\n",
      "#plt.imshow(field, interpolation='None', cmap=cmap)"
     ],
     "language": "python",
     "metadata": {},
     "outputs": [],
     "prompt_number": 29
    },
    {
     "cell_type": "code",
     "collapsed": false,
     "input": [
      "tRange = 450\n",
      "nStates = 2\n",
      "gos = [[1,2],[1,2]]\n",
      "nbs = [np.random.randint(0,2,[3,3]) for x in range(nStates)]\n",
      "curField = field\n",
      "vol = np.zeros([tRange,fielddims[0],fielddims[1]])\n",
      "\n",
      "for t in range(tRange):\n",
      "    sMask = curField * 0\n",
      "    for s in range(nStates):\n",
      "        sMask += update(curField,nbs,nStates,gos,s)\n",
      "    curField = sMask\n",
      "    vol[t] = curField\n",
      "    \n",
      "plt.imshow(curField,cmap='gray',interpolation='Nearest')    \n",
      "plt.show()"
     ],
     "language": "python",
     "metadata": {},
     "outputs": [],
     "prompt_number": 63
    },
    {
     "cell_type": "code",
     "collapsed": false,
     "input": [
      "def update(field, nbs, nStates, gos, s):\n",
      "    nextState = (s + 1) % nStates        \n",
      "    sMask = field == s\n",
      "    uMask = field == nextState\n",
      "        \n",
      "    conved = convolve(uMask.astype('int'),nbs[s], mode='wrap') * sMask    \n",
      "    ix = np.in1d(conved.ravel(), gos[s]).reshape(conved.shape)\n",
      "    sMask =  sMask.astype('int') * s\n",
      "    sMask[ix] = nextState\n",
      "    return sMask"
     ],
     "language": "python",
     "metadata": {},
     "outputs": [],
     "prompt_number": 6
    },
    {
     "cell_type": "code",
     "collapsed": false,
     "input": [
      "fig = plt.figure()\n",
      "\n",
      "t = 0\n",
      "\n",
      "im = plt.imshow(vol[t], cmap='gray',clim = range(nStates),interpolation='Nearest')\n",
      "\n",
      "def updatefig(*args):\n",
      "    global t\n",
      "    \n",
      "    t = (t % vol.shape[0]) + 1 \n",
      "            \n",
      "    im.set_array(vol[t])    \n",
      "\n",
      "ani = animation.FuncAnimation(fig, updatefig, interval=250, blit=False)\n",
      "plt.show()"
     ],
     "language": "python",
     "metadata": {},
     "outputs": [],
     "prompt_number": 64
    },
    {
     "cell_type": "code",
     "collapsed": false,
     "input": [
      "plt.imshow(vol.std(0),cmap='seismic')\n",
      "plt.show()"
     ],
     "language": "python",
     "metadata": {},
     "outputs": [],
     "prompt_number": 65
    },
    {
     "cell_type": "code",
     "collapsed": false,
     "input": [],
     "language": "python",
     "metadata": {},
     "outputs": [],
     "prompt_number": 87
    },
    {
     "cell_type": "code",
     "collapsed": false,
     "input": [],
     "language": "python",
     "metadata": {},
     "outputs": []
    }
   ],
   "metadata": {}
  }
 ]
}